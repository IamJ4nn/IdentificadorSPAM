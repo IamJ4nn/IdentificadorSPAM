{
  "nbformat": 4,
  "nbformat_minor": 0,
  "metadata": {
    "colab": {
      "provenance": []
    },
    "kernelspec": {
      "name": "python3",
      "display_name": "Python 3"
    },
    "language_info": {
      "name": "python"
    }
  },
  "cells": [
    {
      "cell_type": "markdown",
      "source": [
        "# **Identificador de SPAM**\n",
        "\n",
        "**Integrantes:**\n",
        "- Janer Vega - 2210048\n",
        "- Julian Perez - 2212690\n",
        "- Fernando Montañez - 2211851\n",
        "\n",
        "_Julio de 2023_"
      ],
      "metadata": {
        "id": "hYMECG2tJbqG"
      }
    },
    {
      "cell_type": "markdown",
      "source": [
        "Antes que todo instalamos las librerias que estarémos utilizando en el proyecto."
      ],
      "metadata": {
        "id": "2Pni5LxsLcjB"
      }
    },
    {
      "cell_type": "code",
      "source": [
        "!pip install unidecode automata-lib"
      ],
      "metadata": {
        "id": "wYy8hmslLYKx"
      },
      "execution_count": null,
      "outputs": []
    },
    {
      "cell_type": "markdown",
      "source": [
        "<div style=\"height:100px;\"></div>"
      ],
      "metadata": {
        "id": "siF5mSX-QYCC"
      }
    },
    {
      "cell_type": "markdown",
      "source": [
        "# DEFINICIÓN FORMAL DEL AUTOMATA:\n",
        "\n",
        "A = (Q,Σ,δ,q0,F)\n",
        "\n",
        "Q = {q0,q1,q2,q3,q4,q5,q6,q7,q8,q9,q10,...,q87,q88} | 89 estados,\n",
        "\n",
        "Σ = {a, c, d, e, f, g, h, i, l, m, n, o, p, r, s, t, u, v, x, z} | 20 letras,\n",
        "\n",
        "δ = {δ(q0,p)=q83, δ(q0,r)=q32, δ(q1,a)=q2, δ(q2,n)=q3,...},\n",
        "\n",
        "q0 = {q0},\n",
        "\n",
        "F = {q7, q16, q31, q41, q63, q73, q82}"
      ],
      "metadata": {
        "id": "3b5LBsRQlqBT"
      }
    },
    {
      "cell_type": "markdown",
      "source": [
        "## Autómata fínito determinista (AFD)\n",
        "\n"
      ],
      "metadata": {
        "id": "6_LX6OSrQY-F"
      }
    },
    {
      "cell_type": "code",
      "source": [
        "from automata.fa.dfa import DFA\n",
        "\n",
        "def automata():\n",
        "    d = DFA(\n",
        "        states = {'q0', 'q1', 'q2', 'q3', 'q4', 'q5', 'q6', 'q7', 'q8', 'q9', 'q10', 'q11', 'q12', 'q12', 'q13', 'q14', 'q14', 'q15', 'q16', 'q17', 'q18', 'q19', 'q20', 'q21', 'q22', 'q23', 'q24', 'q25', 'q26', 'q26', 'q27', 'q28', 'q29', 'q30', 'q31', 'q31', 'q32', 'q33', 'q34', 'q35', 'q36', 'q37', 'q38', 'q39', 'q40', 'q41', 'q42', 'q43', 'q44', 'q45', 'q46', 'q47', 'q48', 'q49', 'q50', 'q51', 'q52', 'q52', 'q53', 'q54', 'q55', 'q56', 'q57', 'q58', 'q59', 'q60', 'q61', 'q62', 'q63', 'q64', 'q65', 'q66', 'q67', 'q68', 'q69', 'q70', 'q71', 'q72', 'q73', 'q74', 'q75', 'q76', 'q77', 'q78', 'q79', 'q80', 'q81', 'q82', 'q83', 'q84', 'q85', 'q86', 'q87', 'q88'},\n",
        "        input_symbols = {'a', 'c', 'd', 'e', 'f', 'g', 'h', 'i', 'l', 'm', 'n', 'o', 'p', 'r', 's', 't', 'u', 'v', 'x', 'z'},\n",
        "        transitions = {\n",
        "            'q0': {'p': 'q83', 'r': 'q32', 'd': 'q17', 'e': 'q45', 'g': 'q1', 'o': 'q36', 'a': 'q52', 'u': 'q42', 'i': 'q74'},\n",
        "            'q1': {'a': 'q2', 'r': 'q27'},\n",
        "            'q2': {'n': 'q3', 'r': 'q8'},\n",
        "            'q3': {'a': 'q4'},\n",
        "            'q4': {'d': 'q5', 'r': 'q7'},\n",
        "            'q5': {'o': 'q6'},\n",
        "            'q6': {'r': 'q7'},\n",
        "            'q7': {},\n",
        "            'q8': {'a': 'q9'},\n",
        "            'q9': {'n': 'q10'},\n",
        "            'q10': {'t': 'q11'},\n",
        "            'q11': {'i': 'q12'},\n",
        "            'q12': {'z': 'q13'},\n",
        "            'q13': {'a': 'q14'},\n",
        "            'q14': {'d': 'q15'},\n",
        "            'q15': {'o': 'q16'},\n",
        "            'q16': {},\n",
        "            'q17': {'i': 'q18', 'e': 'q21'},\n",
        "            'q18': {'n': 'q19'},\n",
        "            'q19': {'e': 'q20'},\n",
        "            'q20': {'t': 'q15'},\n",
        "            'q21': {'s': 'q22'},\n",
        "            'q22': {'c': 'q23'},\n",
        "            'q23': {'u': 'q24'},\n",
        "            'q24': {'e': 'q25'},\n",
        "            'q25': {'n': 'q26'},\n",
        "            'q26': {'t': 'q15'},\n",
        "            'q27': {'a': 'q28'},\n",
        "            'q28': {'t': 'q29'},\n",
        "            'q29': {'i': 'q30'},\n",
        "            'q30': {'s': 'q31'},\n",
        "            'q31': {},\n",
        "            'q32': {'i': 'q33', 'a': 'q34'},\n",
        "            'q33': {'c': 'q15'},\n",
        "            'q34': {'p': 'q35'},\n",
        "            'q35': {'i': 'q14'},\n",
        "            'q36': {'f': 'q37', 'p': 'q64'},\n",
        "            'q37': {'e': 'q38'},\n",
        "            'q38': {'r': 'q39'},\n",
        "            'q39': {'t': 'q40'},\n",
        "            'q40': {'a': 'q41'},\n",
        "            'q41': {},\n",
        "            'q42': {'n': 'q43', 'l': 'q55', 'r': 'q58'},\n",
        "            'q43': {'i': 'q44'},\n",
        "            'q44': {'c': 'q40'},\n",
        "            'q45': {'x': 'q46'},\n",
        "            'q46': {'c': 'q47'},\n",
        "            'q47': {'l': 'q48'},\n",
        "            'q48': {'u': 'q49'},\n",
        "            'q49': {'s': 'q50'},\n",
        "            'q50': {'i': 'q51'},\n",
        "            'q51': {'v': 'q15'},\n",
        "            'q52': {'h': 'q53'},\n",
        "            'q53': {'o': 'q54'},\n",
        "            'q54': {'r': 'q40'},\n",
        "            'q55': {'t': 'q56'},\n",
        "            'q56': {'i': 'q57'},\n",
        "            'q57': {'m': 'q40'},\n",
        "            'q58': {'g': 'q59'},\n",
        "            'q59': {'e': 'q60'},\n",
        "            'q60': {'n': 'q61'},\n",
        "            'q61': {'t': 'q62'},\n",
        "            'q62': {'e': 'q63'},\n",
        "            'q63': {},\n",
        "            'q64': {'o': 'q65'},\n",
        "            'q65': {'r': 'q66'},\n",
        "            'q66': {'t': 'q67'},\n",
        "            'q67': {'u': 'q68'},\n",
        "            'q68': {'n': 'q69'},\n",
        "            'q69': {'i': 'q70'},\n",
        "            'q70': {'d': 'q71'},\n",
        "            'q71': {'a': 'q72'},\n",
        "            'q72': {'d': 'q73'},\n",
        "            'q73': {},\n",
        "            'q74': {'n': 'q75'},\n",
        "            'q75': {'v': 'q76'},\n",
        "            'q76': {'e': 'q77'},\n",
        "            'q77': {'r': 'q78'},\n",
        "            'q78': {'s': 'q79'},\n",
        "            'q79': {'i': 'q80'},\n",
        "            'q80': {'o': 'q81'},\n",
        "            'q81': {'n': 'q82'},\n",
        "            'q82': {},\n",
        "            'q83': {'r': 'q84'},\n",
        "            'q84': {'e': 'q85'},\n",
        "            'q85': {'s': 'q86'},\n",
        "            'q86': {'t': 'q87'},\n",
        "            'q87': {'a': 'q88'},\n",
        "            'q88': {'m': 'q15'},\n",
        "        },\n",
        "        initial_state = 'q0',\n",
        "        final_states = {'q7', 'q16', 'q31', 'q41', 'q63', 'q73', 'q82'},\n",
        "        allow_partial = True\n",
        "    )\n",
        "    return d"
      ],
      "metadata": {
        "id": "F0VmlAPxVmXJ"
      },
      "execution_count": 2,
      "outputs": []
    },
    {
      "cell_type": "markdown",
      "source": [
        "<div style=\"height:100px;\"></div>"
      ],
      "metadata": {
        "id": "ZcsC6fjn4pgq"
      }
    },
    {
      "cell_type": "markdown",
      "source": [
        "## Definimos las funciones que tratarán el correo que usarémos de ejemplo"
      ],
      "metadata": {
        "id": "SQNJOXVj4q3-"
      }
    },
    {
      "cell_type": "code",
      "source": [
        "def convertirALista(texto):\n",
        "    lista = list(texto.split(' '))\n",
        "    return lista\n",
        "\n",
        "def leerArchivo(archivo):\n",
        "    texto = open('{}.txt'.format(archivo), 'r', encoding='utf-8')\n",
        "    contenido = texto.read()\n",
        "    texto.close()\n",
        "    return contenido\n",
        "\n",
        "def eliminarPuntuacion(texto):\n",
        "    import string, re, unidecode\n",
        "    texto = texto.translate(str.maketrans('', '', string.punctuation))\n",
        "    texto = unidecode.unidecode(texto)\n",
        "    texto = re.sub('[?!]', '', texto)\n",
        "    return texto\n",
        "\n",
        "def pasarAMinusculas(texto):\n",
        "    texto = texto.lower()\n",
        "    return texto\n",
        "\n",
        "def eliminarSaltosDeLinea(texto):\n",
        "    texto = ' '.join(texto.split('\\n'))\n",
        "    return texto\n",
        "\n",
        "def eliminarCadenasVacias(lista):\n",
        "    while('' in lista):\n",
        "        lista.remove('')\n",
        "    return lista\n",
        "\n",
        "def evaluar(palabra):\n",
        "    d = automata()\n",
        "    if d.accepts_input(palabra) != True:\n",
        "        return False\n",
        "    return True"
      ],
      "metadata": {
        "id": "X4KYTAIeDePA"
      },
      "execution_count": 3,
      "outputs": []
    },
    {
      "cell_type": "markdown",
      "source": [
        "<div style=\"height:100px;\"></div>"
      ],
      "metadata": {
        "id": "9O0ini70D0YN"
      }
    },
    {
      "cell_type": "markdown",
      "source": [
        "## Verificamos si el correo es SPAM\n",
        "\n",
        "Para ello asignamos un punto cada vez que una palabra del correo sea aceptada por el autómata, si 7 o más palabras son aceptadas se considerará al correo como potecialmente SPAM."
      ],
      "metadata": {
        "id": "Kdp4bSelD6h7"
      }
    },
    {
      "cell_type": "code",
      "source": [
        "a = leerArchivo('ejemplo1')\n",
        "a = eliminarPuntuacion(a)\n",
        "a = pasarAMinusculas(a)\n",
        "a = eliminarSaltosDeLinea(a)\n",
        "b = convertirALista(a)\n",
        "b = eliminarCadenasVacias(b)\n",
        "\n",
        "puntosSPAM = 0\n",
        "\n",
        "for i in range(0, len(b)):\n",
        "    if len(b[i]) >= 4:\n",
        "        if evaluar(b[i]):\n",
        "            puntosSPAM += 1\n",
        "\n",
        "if puntosSPAM >= 7:\n",
        "    print('El correo evaluado es potecialmente SPAM.')\n",
        "else:\n",
        "    print('El correo evaluado no es SPAM')"
      ],
      "metadata": {
        "id": "UsG3yqxaEgMN"
      },
      "execution_count": null,
      "outputs": []
    }
  ]
}